{
 "cells": [
  {
   "cell_type": "code",
   "execution_count": 22,
   "id": "dfda7177",
   "metadata": {},
   "outputs": [],
   "source": [
    "import glob\n",
    "import numpy as np\n",
    "import pandas as pd\n",
    "import tensorflow as tf\n",
    "import os\n",
    "\n",
    "from Plotting import *\n",
    "from DataHandler import DataHandler\n",
    "from RNN import *"
   ]
  },
  {
   "cell_type": "code",
   "execution_count": 13,
   "id": "c29530da",
   "metadata": {},
   "outputs": [],
   "source": [
    "def load_model(input_dir):\n",
    "    results_csv_dir = input_dir + \"/results.csv\"\n",
    "    history_csv_dir = input_dir + \"/callback_history.csv\"\n",
    "    model_checkpoint = find_min_weights(input_dir)\n",
    "    model = tf.keras.models.load_model(model_checkpoint)\n",
    "    return model"
   ]
  },
  {
   "cell_type": "markdown",
   "id": "ca6a9048",
   "metadata": {},
   "source": [
    "### Making Predictions Using Trained Models"
   ]
  },
  {
   "cell_type": "code",
   "execution_count": 49,
   "id": "3bcef587",
   "metadata": {},
   "outputs": [],
   "source": [
    "def make_predictions(NN_model, df_train, df_train_all, target, emissions):\n",
    "    try:\n",
    "        #creates the new directory for storing the results of testing\n",
    "        os.mkdir(\"{}\".format(emissions))\n",
    "    except:\n",
    "        pass\n",
    "    #makes prediction using the trained model and the training/testing data set\n",
    "    predictions = (NN_model.predict(df_train))\n",
    "    \n",
    "    #adds a column to the overall dataframe with the prediction values\n",
    "    df_train_all['CalibratedE'] = predictions\n",
    "    \n",
    "    #calculating the Delta_E and Delta_Calib_E quantities\n",
    "    l_true = df_train_all[\"cluster_ENG_CALIB_TOT\"].values\n",
    "    l_calib = df_train_all[\"CalibratedE\"].values\n",
    "    l_cluster_calib = df_train_all[\"clusterECalib\"]\n",
    "    Delta_E= l_true - l_calib\n",
    "    Delta_Calib_E = l_true - l_cluster_calib\n",
    "    \n",
    "    #adds two columns to the overall dataframe with the Delta_E and Delta_Calib_E values\n",
    "    df_train_all['Delta_Calib_E '] = Delta_Calib_E\n",
    "    df_train_all['Delta_E'] = Delta_E\n",
    "    \n",
    "    #creating the Figures.png\n",
    "    plt_result(df_train, predictions, target, emissions)\n",
    "    \n",
    "    #creates the ROOT plots\n",
    "    createROOTPlots(df_train_all, emissions)\n",
    "    \n",
    "    #writing the updated dataframe to memory\n",
    "    write_csv_file(df_train_all, emissions)"
   ]
  },
  {
   "cell_type": "markdown",
   "id": "68b18932",
   "metadata": {},
   "source": [
    "# Main Program"
   ]
  },
  {
   "cell_type": "code",
   "execution_count": 18,
   "id": "cbdff038",
   "metadata": {},
   "outputs": [],
   "source": [
    "input_dir = \"/lustre/work/madihowa/CERN/EnergyCalibration/results/run1_e100_multiple_inputs_2021-07-21-22_54_33\""
   ]
  },
  {
   "cell_type": "code",
   "execution_count": 25,
   "id": "49a60e6c",
   "metadata": {},
   "outputs": [],
   "source": [
    "common_csvs = [input_dir+\"/callback_history.csv\", input_dir+\"/results.csv\"]"
   ]
  },
  {
   "cell_type": "code",
   "execution_count": 27,
   "id": "f8a291d5",
   "metadata": {},
   "outputs": [],
   "source": [
    "all_csvs = glob.glob(input_dir+\"/*csv\")"
   ]
  },
  {
   "cell_type": "code",
   "execution_count": 38,
   "id": "0456a659",
   "metadata": {},
   "outputs": [],
   "source": [
    "for csvs in all_csvs:\n",
    "    if csvs not in common_csvs:\n",
    "        list_inputs_dir = csvs"
   ]
  },
  {
   "cell_type": "code",
   "execution_count": 39,
   "id": "9d6b0325",
   "metadata": {},
   "outputs": [
    {
     "data": {
      "text/plain": [
       "'/lustre/work/madihowa/CERN/EnergyCalibration/results/run1_e100_multiple_inputs_2021-07-21-22_54_33/MultipleInputs.csv'"
      ]
     },
     "execution_count": 39,
     "metadata": {},
     "output_type": "execute_result"
    }
   ],
   "source": [
    "list_inputs_dir"
   ]
  },
  {
   "cell_type": "code",
   "execution_count": 20,
   "id": "0baf5403",
   "metadata": {},
   "outputs": [],
   "source": [
    "model = load_model(input_dir)"
   ]
  },
  {
   "cell_type": "code",
   "execution_count": 51,
   "id": "bbd721da",
   "metadata": {},
   "outputs": [],
   "source": [
    "emissions = input_dir+\"/jetDataPredictions\""
   ]
  },
  {
   "cell_type": "code",
   "execution_count": 40,
   "id": "dcdb884b",
   "metadata": {},
   "outputs": [],
   "source": [
    "#specifying the testing and training data files\n",
    "test_csv_dir, train_csv_dir = \"/lustre/work/madihowa/CERN/EnergyCalibration/data/jetData/jets.csv\", \"/lustre/work/madihowa/CERN/EnergyCalibration/data/jetData/jets.csv\"\n",
    "\n",
    "#instantiate the Data Handler object\n",
    "all_data = DataHandler(test_csv_dir, train_csv_dir, list_inputs_dir)"
   ]
  },
  {
   "cell_type": "code",
   "execution_count": 41,
   "id": "cf1a9e94",
   "metadata": {},
   "outputs": [],
   "source": [
    "#get all the required DFs from the DataHandler object\n",
    "train_df = all_data.train_df\n",
    "train_all_df = all_data.train_all\n",
    "target_df = all_data.target_df"
   ]
  },
  {
   "cell_type": "markdown",
   "id": "6a5aeb80",
   "metadata": {},
   "source": [
    "### Since Jet Data File right now doesn't truthPDG. We are avoiding creating Had_Tree and EM_Tree"
   ]
  },
  {
   "cell_type": "code",
   "execution_count": 52,
   "id": "6739eb31",
   "metadata": {},
   "outputs": [],
   "source": [
    "def createROOTPlots(df, emissions):\n",
    "    og_df = df\n",
    "   # em_df = og_df[og_df[\"truthPDG\"] == 111]\n",
    "   # had_df = og_df[og_df[\"truthPDG\"] == 211]\n",
    "    Plot_performance(og_df, \"All Data\", emissions)\n",
    "   # Plot_performance(em_df, \"EM Tree\", emissions)\n",
    "   # Plot_performance(had_df, \"Had Tree\", emissions)"
   ]
  },
  {
   "cell_type": "code",
   "execution_count": 53,
   "id": "22384bee",
   "metadata": {},
   "outputs": [
    {
     "name": "stdout",
     "output_type": "stream",
     "text": [
      "CSV file written\n"
     ]
    }
   ],
   "source": [
    "make_predictions(model, train_df, train_all_df, target_df, emissions)"
   ]
  }
 ],
 "metadata": {
  "kernelspec": {
   "display_name": "Python 3 (ipykernel)",
   "language": "python",
   "name": "python3"
  },
  "language_info": {
   "codemirror_mode": {
    "name": "ipython",
    "version": 3
   },
   "file_extension": ".py",
   "mimetype": "text/x-python",
   "name": "python",
   "nbconvert_exporter": "python",
   "pygments_lexer": "ipython3",
   "version": "3.8.5"
  }
 },
 "nbformat": 4,
 "nbformat_minor": 5
}
